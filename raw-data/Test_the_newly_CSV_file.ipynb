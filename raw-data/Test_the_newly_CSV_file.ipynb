{
 "cells": [
  {
   "cell_type": "markdown",
   "id": "1558c41d-c2e4-45c3-a22b-69405f3014dd",
   "metadata": {
    "tags": []
   },
   "source": [
    "## Test: For the newest csv file"
   ]
  },
  {
   "cell_type": "code",
   "execution_count": null,
   "id": "16e9c781-ac31-4f84-81ea-af5e7efbbd7e",
   "metadata": {},
   "outputs": [],
   "source": [
    "from pytz import timezone\n",
    "# Import\n",
    "dataset = pd.read_csv('./normal_air_comparison.csv')\n",
    "# Convert to date time with Ho Chi Minh timezone\n",
    "dataset['unix_time'] = pd.to_datetime(dataset['unix_time'], unit='s').dt.tz_localize('UTC').dt.tz_convert(timezone('Asia/Ho_Chi_Minh'))\n",
    "# Check for duplicate rows \n",
    "duplicate_rows = dataset.duplicated(subset=['temperature','humidity','pressure','gas_resistance'],keep='first')\n",
    "duplicate_rows\n",
    "# Remove the duplicated data\n",
    "dataset_nodup = dataset[~duplicate_rows]\n",
    "dataset_nodup.isnull().sum().sum()\n",
    "# dataset.shape"
   ]
  },
  {
   "cell_type": "code",
   "execution_count": null,
   "id": "02698055-fc04-4a3f-91e6-939d0914a78a",
   "metadata": {},
   "outputs": [],
   "source": [
    "# Pre-process: Remove the duplicated data\n",
    "# Check for duplicate rows \n",
    "duplicate_rows = na_dup.duplicated(subset=['temperature','humidity','pressure','gas_resistance'],keep='first')\n",
    "duplicate_rows\n",
    "# Select rows that are not duplicates\n",
    "na_no_dup = na_dup[~duplicate_rows]\n",
    "na_no_dup"
   ]
  }
 ],
 "metadata": {
  "kernelspec": {
   "display_name": "Python 3 (ipykernel)",
   "language": "python",
   "name": "python3"
  },
  "language_info": {
   "codemirror_mode": {
    "name": "ipython",
    "version": 3
   },
   "file_extension": ".py",
   "mimetype": "text/x-python",
   "name": "python",
   "nbconvert_exporter": "python",
   "pygments_lexer": "ipython3",
   "version": "3.10.9"
  }
 },
 "nbformat": 4,
 "nbformat_minor": 5
}
