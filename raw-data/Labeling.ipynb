{
 "cells": [
  {
   "cell_type": "markdown",
   "id": "40d11005-0370-484c-b6b8-4e961afd2be5",
   "metadata": {
    "tags": []
   },
   "source": [
    "## Import libraries"
   ]
  },
  {
   "cell_type": "code",
   "execution_count": null,
   "id": "1d4ca544-623a-45dc-8717-c60f7f89116b",
   "metadata": {},
   "outputs": [],
   "source": [
    "import pandas as pd\n",
    "from sklearn.preprocessing import LabelEncoder, OneHotEncoder"
   ]
  },
  {
   "cell_type": "markdown",
   "id": "ce190cf4-e2df-4076-839f-cd824dc5a118",
   "metadata": {
    "tags": []
   },
   "source": [
    "## Import data"
   ]
  },
  {
   "cell_type": "code",
   "execution_count": null,
   "id": "410a7f42-97e9-4f3d-9ae1-527d69a1b83e",
   "metadata": {},
   "outputs": [],
   "source": [
    "# Read CSV files into DataFrames\n",
    "na = pd.read_csv('./normal_air_v1.csv')\n",
    "cf = pd.read_csv('./caffe.csv')\n",
    "mo = pd.read_csv('./medicated_oil.csv')"
   ]
  },
  {
   "cell_type": "markdown",
   "id": "2a59e84a-c185-4212-ae38-e17ef1bf83b4",
   "metadata": {
    "tags": []
   },
   "source": [
    "### Data overview"
   ]
  },
  {
   "cell_type": "code",
   "execution_count": null,
   "id": "9dce48db-bf86-427b-b7c3-54890c5d3bd0",
   "metadata": {},
   "outputs": [],
   "source": [
    "# See head\n",
    "na.head()"
   ]
  },
  {
   "cell_type": "code",
   "execution_count": null,
   "id": "d32144b0-f7f7-4b6c-bd22-5c6f70b19b2c",
   "metadata": {},
   "outputs": [],
   "source": [
    "# See tail\n",
    "na.tail()"
   ]
  },
  {
   "cell_type": "code",
   "execution_count": null,
   "id": "0a55f6c4-e9af-49db-af64-878b2d6962cf",
   "metadata": {},
   "outputs": [],
   "source": [
    "# Check size\n",
    "na.shape"
   ]
  },
  {
   "cell_type": "code",
   "execution_count": null,
   "id": "ddcf9621-65ea-466d-8db4-dce10c3ff7f5",
   "metadata": {},
   "outputs": [],
   "source": [
    "# Summary\n",
    "na.info()"
   ]
  },
  {
   "cell_type": "code",
   "execution_count": null,
   "id": "c4fb2e43-a0e9-4980-91f5-b7d947b9b34a",
   "metadata": {},
   "outputs": [],
   "source": [
    "# descriptive statistics\n",
    "na.describe().astype(int)"
   ]
  },
  {
   "cell_type": "code",
   "execution_count": null,
   "id": "45ecbe52-5a71-42aa-8d43-1781a5cd9030",
   "metadata": {},
   "outputs": [],
   "source": [
    "# Column names\n",
    "na.columns"
   ]
  },
  {
   "cell_type": "code",
   "execution_count": null,
   "id": "1e1d8ebc-a5cb-4cef-a2ed-6f75a96c7204",
   "metadata": {},
   "outputs": [],
   "source": [
    "# Check count of missing values\n",
    "na.isnull().sum()"
   ]
  },
  {
   "cell_type": "code",
   "execution_count": null,
   "id": "4225dc1b-9145-4782-9bd3-0ac8906ce634",
   "metadata": {},
   "outputs": [],
   "source": [
    "# Check duplicate values => Cac gia tri trung lap\n",
    "na.value_counts()"
   ]
  },
  {
   "cell_type": "code",
   "execution_count": null,
   "id": "d1e7583f-b2d8-4f47-bd8b-88f7452a199e",
   "metadata": {},
   "outputs": [],
   "source": [
    "# Check unique values => Cac gia tri dac biet\n",
    "na['temperature'].unique()"
   ]
  },
  {
   "cell_type": "markdown",
   "id": "e02bdc3c-8fbf-497d-a7aa-5a3166bd672f",
   "metadata": {},
   "source": [
    "### Add classes"
   ]
  },
  {
   "cell_type": "code",
   "execution_count": null,
   "id": "efd5a595-bfda-45c3-9361-f72cb75f7528",
   "metadata": {},
   "outputs": [],
   "source": [
    "na['class'] = 'normal air'\n",
    "cf['class'] = 'caffee'\n",
    "mo['class'] = 'medicated oil'"
   ]
  },
  {
   "cell_type": "markdown",
   "id": "3351c537-8ed9-494e-945f-371c410abb16",
   "metadata": {},
   "source": [
    "### Remove the duplicated data"
   ]
  },
  {
   "cell_type": "code",
   "execution_count": 203,
   "id": "6c5dfbb5-478f-41b5-9693-b0e5d654a7eb",
   "metadata": {},
   "outputs": [
    {
     "data": {
      "text/plain": [
       "124"
      ]
     },
     "execution_count": 203,
     "metadata": {},
     "output_type": "execute_result"
    }
   ],
   "source": [
    "# Check for duplicate rows \n",
    "duplicate_rows = na.duplicated(subset=['temperature','humidity','pressure','gas_resistance'],keep='first')\n",
    "duplicate_rows.sum()\n",
    "# Select rows that are not duplicates\n",
    "# na_no_dup = na_dup[~duplicate_rows]\n",
    "# na_no_dup"
   ]
  },
  {
   "cell_type": "markdown",
   "id": "31db1bbb-d5fc-44f5-a780-896c06d2062f",
   "metadata": {},
   "source": [
    "### Concatenate DataFrames along a 'row' axis"
   ]
  },
  {
   "cell_type": "code",
   "execution_count": null,
   "id": "e183cbc3-1eff-4278-bd76-8650022bb74a",
   "metadata": {},
   "outputs": [],
   "source": [
    "dataset = pd.concat([na,cf,mo], axis=0)\n",
    "dataset"
   ]
  },
  {
   "cell_type": "markdown",
   "id": "4f6a5757-69cb-4359-ae22-71c6f12bc51a",
   "metadata": {
    "jp-MarkdownHeadingCollapsed": true,
    "tags": []
   },
   "source": [
    "### [Optional] Convert Unix time to Date time"
   ]
  },
  {
   "cell_type": "code",
   "execution_count": null,
   "id": "98ca7744-ce2b-4481-a061-8dd602f5e8f9",
   "metadata": {},
   "outputs": [],
   "source": [
    "na['unix_time'] = pd.to_datetime(na['unix_time'], unit='s')\n",
    "na"
   ]
  },
  {
   "cell_type": "code",
   "execution_count": null,
   "id": "b1f9cfea-6c16-44c1-8214-720f458822dc",
   "metadata": {},
   "outputs": [],
   "source": [
    "cf['unix_time'] = pd.to_datetime(cf['unix_time'], unit='s')\n",
    "cf"
   ]
  },
  {
   "cell_type": "code",
   "execution_count": null,
   "id": "a3ad5385-6d0c-4a26-aa6c-056260289c9e",
   "metadata": {},
   "outputs": [],
   "source": [
    "mo['unix_time'] = pd.to_datetime(mo['unix_time'], unit='s')\n",
    "mo"
   ]
  },
  {
   "cell_type": "markdown",
   "id": "c4d35ba5-4fe5-41ad-9491-b1b0ee1faa69",
   "metadata": {},
   "source": [
    "## Pre-process data"
   ]
  },
  {
   "cell_type": "markdown",
   "id": "6210aca2-59f4-4a0f-8886-5f3d2a991007",
   "metadata": {},
   "source": [
    "### Create: Independent variable (X) and Dependent variable (Y)"
   ]
  },
  {
   "cell_type": "code",
   "execution_count": null,
   "id": "ca092bc4-6417-4af3-861a-b22b37d2e2c5",
   "metadata": {},
   "outputs": [],
   "source": [
    "X = dataset.iloc[:,:-1].values\n",
    "X.astype(int)"
   ]
  },
  {
   "cell_type": "code",
   "execution_count": null,
   "id": "5bcd76e5-72ea-418e-ab6f-f76a2e114e08",
   "metadata": {},
   "outputs": [],
   "source": [
    "Y = dataset.iloc[:,5].values\n",
    "Y"
   ]
  },
  {
   "cell_type": "markdown",
   "id": "6d45ff33-f3ab-4343-9a28-c92a045a4542",
   "metadata": {
    "jp-MarkdownHeadingCollapsed": true,
    "tags": []
   },
   "source": [
    "### Encoder"
   ]
  },
  {
   "cell_type": "markdown",
   "id": "fbdcac95-8673-438a-87e2-a6750eca4cda",
   "metadata": {},
   "source": [
    "#### Lab Encoder: mã hóa dữ liệu Text thành Numerical"
   ]
  },
  {
   "cell_type": "code",
   "execution_count": null,
   "id": "6aa164dc-a896-4a12-a87d-8f185f702155",
   "metadata": {},
   "outputs": [],
   "source": [
    "dataset"
   ]
  },
  {
   "cell_type": "code",
   "execution_count": null,
   "id": "7d9f1405-3210-4400-8170-248b22739ea2",
   "metadata": {},
   "outputs": [],
   "source": [
    "lblencoder = LabelEncoder()\n",
    "Y[:,] = lblencoder.fit_transform(Y[:,])\n",
    "# lblencoder.inverse_transform([0,1,2])\n",
    "# lblencoder.classes_\n",
    "# [0,1,2] ~ ['caffee', 'medicated oil', 'normal air']\n",
    "Y"
   ]
  },
  {
   "cell_type": "markdown",
   "id": "f3d1b494-6a8b-4f80-bcd2-2baa42c53a04",
   "metadata": {},
   "source": [
    "#### One Hot Encoder: mã hóa dữ liệu Numerical thành Binary [Chưa xong]"
   ]
  },
  {
   "cell_type": "code",
   "execution_count": null,
   "id": "0c709117-26e7-4697-8497-bc3525136dbf",
   "metadata": {},
   "outputs": [],
   "source": [
    "# ohencoder = OneHotEncoder(categories=categories[5])\n",
    "# dataset = ohencoder.fit_transform(dataset).toarray()\n",
    "# dataset"
   ]
  }
 ],
 "metadata": {
  "kernelspec": {
   "display_name": "Python 3 (ipykernel)",
   "language": "python",
   "name": "python3"
  },
  "language_info": {
   "codemirror_mode": {
    "name": "ipython",
    "version": 3
   },
   "file_extension": ".py",
   "mimetype": "text/x-python",
   "name": "python",
   "nbconvert_exporter": "python",
   "pygments_lexer": "ipython3",
   "version": "3.10.9"
  }
 },
 "nbformat": 4,
 "nbformat_minor": 5
}
